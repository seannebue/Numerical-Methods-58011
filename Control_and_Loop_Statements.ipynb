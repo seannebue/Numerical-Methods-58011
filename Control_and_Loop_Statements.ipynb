{
  "nbformat": 4,
  "nbformat_minor": 0,
  "metadata": {
    "colab": {
      "name": "Control and Loop Statements.ipynb",
      "provenance": [],
      "authorship_tag": "ABX9TyP6jhj9Qcikzcdle6iaRd1e",
      "include_colab_link": true
    },
    "kernelspec": {
      "name": "python3",
      "display_name": "Python 3"
    },
    "language_info": {
      "name": "python"
    }
  },
  "cells": [
    {
      "cell_type": "markdown",
      "metadata": {
        "id": "view-in-github",
        "colab_type": "text"
      },
      "source": [
        "<a href=\"https://colab.research.google.com/github/seannebue/Numerical-Methods-58011/blob/main/Control_and_Loop_Statements.ipynb\" target=\"_parent\"><img src=\"https://colab.research.google.com/assets/colab-badge.svg\" alt=\"Open In Colab\"/></a>"
      ]
    },
    {
      "cell_type": "markdown",
      "source": [
        "if statements"
      ],
      "metadata": {
        "id": "xiinV-3pbyik"
      }
    },
    {
      "cell_type": "code",
      "execution_count": 2,
      "metadata": {
        "colab": {
          "base_uri": "https://localhost:8080/"
        },
        "id": "o9m1ZmVgbiUL",
        "outputId": "1f54dca5-73e1-4e6b-e158-103a68077658"
      },
      "outputs": [
        {
          "output_type": "stream",
          "name": "stdout",
          "text": [
            "b is greater than a\n"
          ]
        }
      ],
      "source": [
        "a = 12\n",
        "b = 100\n",
        "\n",
        "if b>a:\n",
        " print(\"b is greater than a\")"
      ]
    },
    {
      "cell_type": "markdown",
      "source": [
        "elif statements"
      ],
      "metadata": {
        "id": "opIQqYfzc_hP"
      }
    },
    {
      "cell_type": "code",
      "source": [
        "a=12\n",
        "b=100\n",
        "\n",
        "if b>a:\n",
        "  print(\"b is greater than a\")\n",
        "elif a==b:\n",
        "  print(\"a and b are equal\")"
      ],
      "metadata": {
        "colab": {
          "base_uri": "https://localhost:8080/"
        },
        "id": "p1yMRa_dcw2I",
        "outputId": "a7a1e0d8-246d-45b5-9b28-32142791b9df"
      },
      "execution_count": 5,
      "outputs": [
        {
          "output_type": "stream",
          "name": "stdout",
          "text": [
            "b is greater than a\n"
          ]
        }
      ]
    },
    {
      "cell_type": "markdown",
      "source": [
        "else statements"
      ],
      "metadata": {
        "id": "WWdk6ut5DZHS"
      }
    },
    {
      "cell_type": "code",
      "source": [
        "a=100\n",
        "b=100\n",
        "\n",
        "if b>a:\n",
        "  print(\"b is greater than a\")\n",
        "\n",
        "elif a>b:\n",
        "  print(\"a and b are equal\")\n",
        "  \n",
        "else:\n",
        "  print(\"a is equal to b\")"
      ],
      "metadata": {
        "colab": {
          "base_uri": "https://localhost:8080/"
        },
        "id": "rvRlsTDWDa7K",
        "outputId": "d5a1356e-2a03-4ab3-9159-23025f65c360"
      },
      "execution_count": 2,
      "outputs": [
        {
          "output_type": "stream",
          "name": "stdout",
          "text": [
            "a is equal to b\n"
          ]
        }
      ]
    },
    {
      "cell_type": "markdown",
      "source": [
        "short hand if statement"
      ],
      "metadata": {
        "id": "8x-8EjNADh2Y"
      }
    },
    {
      "cell_type": "code",
      "source": [
        "a=12\n",
        "b=100\n",
        "\n",
        "if b>a:\n",
        "  print(\"b is greater than a\")"
      ],
      "metadata": {
        "colab": {
          "base_uri": "https://localhost:8080/"
        },
        "id": "neIuh4QUDj7H",
        "outputId": "3050abe9-f5b3-4fac-de9f-5834b05d5750"
      },
      "execution_count": 3,
      "outputs": [
        {
          "output_type": "stream",
          "name": "stdout",
          "text": [
            "b is greater than a\n"
          ]
        }
      ]
    },
    {
      "cell_type": "markdown",
      "source": [
        "short hand if else statement"
      ],
      "metadata": {
        "id": "plmt4acfDsMH"
      }
    },
    {
      "cell_type": "code",
      "source": [
        "c=35\n",
        "d=40\n",
        "\n",
        "print(\"c is greater than d\") if c>d else print(\"d is greater than c\")"
      ],
      "metadata": {
        "colab": {
          "base_uri": "https://localhost:8080/"
        },
        "id": "sD-VEb2yDuIW",
        "outputId": "96422e52-1524-489e-bc1b-4d93292c72ff"
      },
      "execution_count": 13,
      "outputs": [
        {
          "output_type": "stream",
          "name": "stdout",
          "text": [
            "d is greater than c\n"
          ]
        }
      ]
    },
    {
      "cell_type": "markdown",
      "source": [
        "and logic - if both statements or operands are true"
      ],
      "metadata": {
        "id": "5itTsia7D2MX"
      }
    },
    {
      "cell_type": "code",
      "source": [
        "c=35\n",
        "d=40\n",
        "e=30\n",
        "\n",
        "if d>c and c>e:\n",
        "  print(\"Both conditions must be True\")"
      ],
      "metadata": {
        "colab": {
          "base_uri": "https://localhost:8080/"
        },
        "id": "eNfq0VitEFIB",
        "outputId": "c96b9635-1f8c-465f-b783-6904afe31b84"
      },
      "execution_count": 12,
      "outputs": [
        {
          "output_type": "stream",
          "name": "stdout",
          "text": [
            "Both conditions must be True\n"
          ]
        }
      ]
    },
    {
      "cell_type": "markdown",
      "source": [
        "or logic - if one of the operands is true"
      ],
      "metadata": {
        "id": "ZqnTLFI8EIQn"
      }
    },
    {
      "cell_type": "code",
      "source": [
        "if d>c or e>c:\n",
        " print(\"if one of the two operands is True\")"
      ],
      "metadata": {
        "colab": {
          "base_uri": "https://localhost:8080/"
        },
        "id": "3hfkjnKfEMp5",
        "outputId": "d061e5fd-d691-4ee4-d87d-e03d3eb77dfe"
      },
      "execution_count": 11,
      "outputs": [
        {
          "output_type": "stream",
          "name": "stdout",
          "text": [
            "if one of the two operands is True\n"
          ]
        }
      ]
    },
    {
      "cell_type": "markdown",
      "source": [
        "nested if"
      ],
      "metadata": {
        "id": "3Z0LevhcEQk4"
      }
    },
    {
      "cell_type": "code",
      "source": [
        "                                                                                                                                                                                                                                                                                                                                                                                                                                                                                                                                                                                                                                                                                                                                                                                                                                                                                                                                                                                                                                                                                                                                                                                                                                                                                                                                                                                                                                                                                                                                                                                                                                                                                                                                                                                                                                                                                                                                                                                                                                                                                                                                                                                                                                                                                                                                                                                                                                                                                                                                                                                                                                                                                                                                                                                                                                                                                                                                                                                                                                                                                                                                                                                                                                                                                                                                                                                                                                                                                                                           x=int(input())\n",
        "\n",
        "if x>10:\n",
        "  print(\"x is above ten,\")\n",
        "  if x>20:\n",
        "   print(\"x is above 20!\")\n",
        "  if x>30:\n",
        "    print(\"x is above 30!\")\n",
        "    if x>40:\n",
        "      print(\"x is above 30!\")\n",
        "    else:\n",
        "       print(\"x is not above 40\")\n",
        "  else:\n",
        "      print(\"x is not above 30\")  \n",
        "else:\n",
        "  print(\"x is not above 20.\")"
      ],
      "metadata": {
        "colab": {
          "base_uri": "https://localhost:8080/"
        },
        "id": "OXNFVBYJEUhT",
        "outputId": "f98bf411-d34d-4e25-b8b1-058d6d7fc988"
      },
      "execution_count": 10,
      "outputs": [
        {
          "output_type": "stream",
          "name": "stdout",
          "text": [
            "31\n",
            "x is above ten,\n",
            "x is above 20!\n",
            "x is above 30!\n",
            "x is not above 40\n"
          ]
        }
      ]
    },
    {
      "cell_type": "markdown",
      "source": [
        "application 1 - write a program that determines if the input age is qualified to vote or not."
      ],
      "metadata": {
        "id": "jdo4VDkgEYLJ"
      }
    },
    {
      "cell_type": "code",
      "source": [
        "x=int(input())\n",
        "\n",
        "if x>=18:\n",
        "  print(\"You are qualified to vote!\")\n",
        "else:\n",
        "  print(\"You are not qualified to vote!\")\n"
      ],
      "metadata": {
        "colab": {
          "base_uri": "https://localhost:8080/"
        },
        "id": "mfI8d8hUEbqo",
        "outputId": "a82a2b6c-c2b4-432a-f722-f9c40f8ff85f"
      },
      "execution_count": 9,
      "outputs": [
        {
          "output_type": "stream",
          "name": "stdout",
          "text": [
            "8\n",
            "You are not qualified to vote!\n"
          ]
        }
      ]
    },
    {
      "cell_type": "markdown",
      "source": [
        "application 2 - write a program that determines if the number is positive, negative or zero"
      ],
      "metadata": {
        "id": "ZyB1h7JkEcHI"
      }
    },
    {
      "cell_type": "code",
      "source": [
        "input_number = int(input())\n",
        "\n",
        "if input_number > 0:\n",
        "  print('The inputted number is positive.')\n",
        "elif input_number < 0:\n",
        "  print('The inputted number is negative.')\n",
        "else:\n",
        "  print('The inputted number is zero.')\n"
      ],
      "metadata": {
        "colab": {
          "base_uri": "https://localhost:8080/"
        },
        "id": "4N3xOH-WEccZ",
        "outputId": "95af75fa-78fd-4833-baf1-7cbcaeea1e06"
      },
      "execution_count": 8,
      "outputs": [
        {
          "output_type": "stream",
          "name": "stdout",
          "text": [
            "29\n",
            "The inputted number is positive.\n"
          ]
        }
      ]
    },
    {
      "cell_type": "markdown",
      "source": [
        "for loop statement"
      ],
      "metadata": {
        "id": "IM7VyVFHF96d"
      }
    },
    {
      "cell_type": "code",
      "source": [
        "week= [\"Sunday\", \"Monday\", \"Tuesday\", \"Wednesday\", \"Thursday\", \"Friday\", \"Saturday\"]\n",
        "\n",
        "for x in week:\n",
        "  print(x)"
      ],
      "metadata": {
        "colab": {
          "base_uri": "https://localhost:8080/"
        },
        "id": "fZgKK7ueF_A3",
        "outputId": "9d1e9a90-5650-42b8-94e5-ebcd56345eae"
      },
      "execution_count": 7,
      "outputs": [
        {
          "output_type": "stream",
          "name": "stdout",
          "text": [
            "Sunday\n",
            "Monday\n",
            "Tuesday\n",
            "Wednesday\n",
            "Thursday\n",
            "Friday\n",
            "Saturday\n"
          ]
        }
      ]
    },
    {
      "cell_type": "markdown",
      "source": [
        "the break statement"
      ],
      "metadata": {
        "id": "tZfaaQINF_V8"
      }
    },
    {
      "cell_type": "code",
      "source": [
        "week= [\"Sunday\", \"Monday\", \"Tuesday\", \"Wednesday\", \"Thursday\", \"Friday\", \"Saturday\"]\n",
        "\n",
        "for x in week:\n",
        "  print(x)\n",
        "\n",
        "  if x==\"Thursday\":\n",
        "    break"
      ],
      "metadata": {
        "colab": {
          "base_uri": "https://localhost:8080/"
        },
        "id": "Q5pxKFdTF_oc",
        "outputId": "64b04903-0574-4d2c-aaac-7458e981a4c4"
      },
      "execution_count": 6,
      "outputs": [
        {
          "output_type": "stream",
          "name": "stdout",
          "text": [
            "Sunday\n",
            "Monday\n",
            "Tuesday\n",
            "Wednesday\n",
            "Thursday\n"
          ]
        }
      ]
    },
    {
      "cell_type": "markdown",
      "source": [
        "while loop"
      ],
      "metadata": {
        "id": "eLYZeijvGI-L"
      }
    },
    {
      "cell_type": "code",
      "source": [
        "y=3\n",
        "\n",
        "while y<6:\n",
        "  print(y)\n",
        "  if y==3:\n",
        "    break\n",
        "y+=1"
      ],
      "metadata": {
        "colab": {
          "base_uri": "https://localhost:8080/"
        },
        "id": "8-HidbvaGMy3",
        "outputId": "25128e1b-ece6-436d-fba1-76ab629039e5"
      },
      "execution_count": 5,
      "outputs": [
        {
          "output_type": "stream",
          "name": "stdout",
          "text": [
            "3\n"
          ]
        }
      ]
    }
  ]
}