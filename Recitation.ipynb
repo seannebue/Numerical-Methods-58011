{
  "nbformat": 4,
  "nbformat_minor": 0,
  "metadata": {
    "colab": {
      "name": "Recitation.ipynb",
      "provenance": [],
      "authorship_tag": "ABX9TyMkvAv2a4Uabxeuc37XmbbG",
      "include_colab_link": true
    },
    "kernelspec": {
      "name": "python3",
      "display_name": "Python 3"
    },
    "language_info": {
      "name": "python"
    }
  },
  "cells": [
    {
      "cell_type": "markdown",
      "metadata": {
        "id": "view-in-github",
        "colab_type": "text"
      },
      "source": [
        "<a href=\"https://colab.research.google.com/github/seannebue/Numerical-Methods-58011/blob/main/Recitation.ipynb\" target=\"_parent\"><img src=\"https://colab.research.google.com/assets/colab-badge.svg\" alt=\"Open In Colab\"/></a>"
      ]
    },
    {
      "cell_type": "code",
      "execution_count": 1,
      "metadata": {
        "colab": {
          "base_uri": "https://localhost:8080/"
        },
        "id": "qSklfN0usZCM",
        "outputId": "ca7cdfac-b7ab-404b-ec83-ea380daf059e"
      },
      "outputs": [
        {
          "output_type": "stream",
          "name": "stdout",
          "text": [
            "Integral = 1.6005\n"
          ]
        }
      ],
      "source": [
        "def f(x):\n",
        "  return(0.2+25*x-200*x**2+675*x**3-900*x**4+400*x**5) #defines the trigo function\n",
        "\n",
        "a=0\n",
        "b=0.8\n",
        "n=10\n",
        "h=(b-a)/n #width of the trapezoid\n",
        "S=h*(f(a)+f(b)) #beginning value of summation\n",
        "\n",
        "for i in range (1,n):\n",
        "    S+=f(a+i*h)\n",
        "Integral = S*h\n",
        "\n",
        "print(\"Integral = %0.4f\" %Integral)"
      ]
    }
  ]
}